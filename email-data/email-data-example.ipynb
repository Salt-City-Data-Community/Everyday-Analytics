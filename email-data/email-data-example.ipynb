{
 "cells": [
  {
   "cell_type": "code",
   "execution_count": 1,
   "id": "3da3492c",
   "metadata": {},
   "outputs": [],
   "source": [
    "from email.header import decode_header, make_header\n",
    "import mailbox\n",
    "import nltk\n",
    "from nltk import word_tokenize\n",
    "from nltk.probability import FreqDist\n",
    "from nltk.corpus import stopwords\n",
    "import pandas as pd"
   ]
  },
  {
   "cell_type": "code",
   "execution_count": 2,
   "id": "673e68d7",
   "metadata": {},
   "outputs": [],
   "source": [
    "subjects = []\n",
    "\n",
    "def get_subject_data(mbox, output):\n",
    "  # loop to make dictionary based on id, subject, date, sender\n",
    "    for message in mbox:\n",
    "        id = message['message-id']\n",
    "        subject = str(make_header(decode_header(message['subject'])))\n",
    "        date = message['date']\n",
    "        sender = str(make_header(decode_header(message['from'])))\n",
    "        output.append({'id': id, 'subject': subject, 'date': date, 'sender': sender})\n",
    "    return output\n",
    "\n",
    "mbox = mailbox.mbox('oct-sample.mbox')\n",
    "\n",
    "output = get_subject_data(mbox, subjects)"
   ]
  },
  {
   "cell_type": "code",
   "execution_count": 3,
   "id": "35718747",
   "metadata": {},
   "outputs": [
    {
     "name": "stdout",
     "output_type": "stream",
     "text": [
      "['X-GM-THRID', 'X-Gmail-Labels', 'Delivered-To', 'Received', 'X-Google-Smtp-Source', 'X-Received', 'ARC-Seal', 'ARC-Message-Signature', 'ARC-Authentication-Results', 'Return-Path', 'Received', 'Received-SPF', 'Authentication-Results', 'DKIM-Signature', 'DKIM-Signature', 'Date', 'From', 'Reply-To', 'To', 'Message-ID', 'Subject', 'Mime-Version', 'Content-Type', 'ems-method-name', 'ems-idempotence-key', 'ems-subscription-category', 'ems-subscription-scope', 'ems-locale', 'List-Unsubscribe', 'Precedence', 'X-Campaign-Id', 'X-Delivery-Id', 'X-Merchant-Id', 'X-Metadata-postoffice-token', 'Feedback-ID', 'X-SES-Outgoing']\n"
     ]
    }
   ],
   "source": [
    "# check keys with below 2 lines\n",
    "message=mbox[0]\n",
    "print(message.keys()) # ['Date'] and ['From'] will be used"
   ]
  },
  {
   "cell_type": "code",
   "execution_count": 4,
   "id": "7a427dd9",
   "metadata": {},
   "outputs": [],
   "source": [
    "df = pd.DataFrame(output)"
   ]
  },
  {
   "cell_type": "code",
   "execution_count": 5,
   "id": "72247e25",
   "metadata": {},
   "outputs": [
    {
     "data": {
      "text/html": [
       "<div>\n",
       "<style scoped>\n",
       "    .dataframe tbody tr th:only-of-type {\n",
       "        vertical-align: middle;\n",
       "    }\n",
       "\n",
       "    .dataframe tbody tr th {\n",
       "        vertical-align: top;\n",
       "    }\n",
       "\n",
       "    .dataframe thead th {\n",
       "        text-align: right;\n",
       "    }\n",
       "</style>\n",
       "<table border=\"1\" class=\"dataframe\">\n",
       "  <thead>\n",
       "    <tr style=\"text-align: right;\">\n",
       "      <th></th>\n",
       "      <th>id</th>\n",
       "      <th>subject</th>\n",
       "      <th>date</th>\n",
       "      <th>sender</th>\n",
       "    </tr>\n",
       "  </thead>\n",
       "  <tbody>\n",
       "    <tr>\n",
       "      <th>40</th>\n",
       "      <td>&lt;61.4D.25770.2451F156@hq.mta1vrest.cc.prd.spar...</td>\n",
       "      <td>Buy Points for a 100% Bonus.</td>\n",
       "      <td>Thu, 05 Oct 2023 19:57:54 +0000</td>\n",
       "      <td>\"Hilton Honors\" &lt;NoReply@h5.hilton.com&gt;</td>\n",
       "    </tr>\n",
       "    <tr>\n",
       "      <th>41</th>\n",
       "      <td>&lt;-6iOSdPvTE2haCWm62peNw@geopod-ismtpd-1&gt;</td>\n",
       "      <td>Achieving Packaging Circularity</td>\n",
       "      <td>Wed, 27 Sep 2023 18:16:51 +0000 (UTC)</td>\n",
       "      <td>EcoEnclose &lt;hello@ecoenclose.com&gt;</td>\n",
       "    </tr>\n",
       "    <tr>\n",
       "      <th>42</th>\n",
       "      <td>&lt;e75be710ba1a2eb0df9d82ca4.2abc737966.20231004...</td>\n",
       "      <td>💪 Jumpstart Your Health With Tech</td>\n",
       "      <td>Wed,  4 Oct 2023 19:14:36 +0000</td>\n",
       "      <td>Women Who Code Global &lt;contact@womenwhocode.com&gt;</td>\n",
       "    </tr>\n",
       "    <tr>\n",
       "      <th>43</th>\n",
       "      <td>&lt;0100018b03334bf9-b3deacb7-80a6-44c0-bda0-edc4...</td>\n",
       "      <td>Rhinozine - October Issue</td>\n",
       "      <td>Fri, 6 Oct 2023 04:16:15 +0000</td>\n",
       "      <td>Jackie Nasser &lt;jackie@mcneel.com&gt;</td>\n",
       "    </tr>\n",
       "    <tr>\n",
       "      <th>44</th>\n",
       "      <td>&lt;99c01269-16f8-4736-afd8-8a71b8056a8f@atl1s07m...</td>\n",
       "      <td>Ride the rails across a wonderfully weird worl...</td>\n",
       "      <td>Thu, 28 Sep 2023 13:07:03 -0600</td>\n",
       "      <td>\"Nintendo\" &lt;nintendo-noreply@nintendo.net&gt;</td>\n",
       "    </tr>\n",
       "    <tr>\n",
       "      <th>45</th>\n",
       "      <td>&lt;2616184910924779fc96676dd.29e8101746.20230927...</td>\n",
       "      <td>Join us for our LAST Farmer's Market this Thur...</td>\n",
       "      <td>Wed, 27 Sep 2023 19:00:02 +0000</td>\n",
       "      <td>Point of the Bluff Vineyards &lt;info@pointoftheb...</td>\n",
       "    </tr>\n",
       "    <tr>\n",
       "      <th>46</th>\n",
       "      <td>&lt;F6.74.05916.7DAC6156@gn.mta1vrest.cc.prd.spar...</td>\n",
       "      <td>‘Snoop Dogg’ wants to chat with you</td>\n",
       "      <td>Fri, 29 Sep 2023 13:02:15 +0000</td>\n",
       "      <td>\"Wellfound\" &lt;newsletters@hi.wellfound.com&gt;</td>\n",
       "    </tr>\n",
       "    <tr>\n",
       "      <th>47</th>\n",
       "      <td>&lt;30.14.02640.A7D8D156@hu.mta1vrest.cc.prd.spar...</td>\n",
       "      <td>Big Head Todd and the Monsters, The High Kings...</td>\n",
       "      <td>Wed, 04 Oct 2023 16:06:18 +0000</td>\n",
       "      <td>\"DSP Shows\" &lt;hello@mail.dspshows.com&gt;</td>\n",
       "    </tr>\n",
       "    <tr>\n",
       "      <th>48</th>\n",
       "      <td>&lt;7b8d347b73462de6956ba29c5.b7be852bfd.20230926...</td>\n",
       "      <td>‘A tape recorder for the planet’ 🦕</td>\n",
       "      <td>Tue, 26 Sep 2023 15:42:37 +0000</td>\n",
       "      <td>Reasons to be Cheerful &lt;info@reasonstobecheerf...</td>\n",
       "    </tr>\n",
       "    <tr>\n",
       "      <th>49</th>\n",
       "      <td>&lt;xgOnIDfNT9eSW7VxSbw6tg@geopod-ismtpd-29&gt;</td>\n",
       "      <td>The Right Packaging for Your Industry</td>\n",
       "      <td>Wed, 04 Oct 2023 18:15:52 +0000 (UTC)</td>\n",
       "      <td>EcoEnclose &lt;hello@ecoenclose.com&gt;</td>\n",
       "    </tr>\n",
       "  </tbody>\n",
       "</table>\n",
       "</div>"
      ],
      "text/plain": [
       "                                                   id  \\\n",
       "40  <61.4D.25770.2451F156@hq.mta1vrest.cc.prd.spar...   \n",
       "41           <-6iOSdPvTE2haCWm62peNw@geopod-ismtpd-1>   \n",
       "42  <e75be710ba1a2eb0df9d82ca4.2abc737966.20231004...   \n",
       "43  <0100018b03334bf9-b3deacb7-80a6-44c0-bda0-edc4...   \n",
       "44  <99c01269-16f8-4736-afd8-8a71b8056a8f@atl1s07m...   \n",
       "45  <2616184910924779fc96676dd.29e8101746.20230927...   \n",
       "46  <F6.74.05916.7DAC6156@gn.mta1vrest.cc.prd.spar...   \n",
       "47  <30.14.02640.A7D8D156@hu.mta1vrest.cc.prd.spar...   \n",
       "48  <7b8d347b73462de6956ba29c5.b7be852bfd.20230926...   \n",
       "49          <xgOnIDfNT9eSW7VxSbw6tg@geopod-ismtpd-29>   \n",
       "\n",
       "                                              subject  \\\n",
       "40                       Buy Points for a 100% Bonus.   \n",
       "41                    Achieving Packaging Circularity   \n",
       "42                  💪 Jumpstart Your Health With Tech   \n",
       "43                          Rhinozine - October Issue   \n",
       "44  Ride the rails across a wonderfully weird worl...   \n",
       "45  Join us for our LAST Farmer's Market this Thur...   \n",
       "46                ‘Snoop Dogg’ wants to chat with you   \n",
       "47  Big Head Todd and the Monsters, The High Kings...   \n",
       "48                 ‘A tape recorder for the planet’ 🦕   \n",
       "49              The Right Packaging for Your Industry   \n",
       "\n",
       "                                     date  \\\n",
       "40        Thu, 05 Oct 2023 19:57:54 +0000   \n",
       "41  Wed, 27 Sep 2023 18:16:51 +0000 (UTC)   \n",
       "42        Wed,  4 Oct 2023 19:14:36 +0000   \n",
       "43         Fri, 6 Oct 2023 04:16:15 +0000   \n",
       "44        Thu, 28 Sep 2023 13:07:03 -0600   \n",
       "45        Wed, 27 Sep 2023 19:00:02 +0000   \n",
       "46        Fri, 29 Sep 2023 13:02:15 +0000   \n",
       "47        Wed, 04 Oct 2023 16:06:18 +0000   \n",
       "48        Tue, 26 Sep 2023 15:42:37 +0000   \n",
       "49  Wed, 04 Oct 2023 18:15:52 +0000 (UTC)   \n",
       "\n",
       "                                               sender  \n",
       "40            \"Hilton Honors\" <NoReply@h5.hilton.com>  \n",
       "41                  EcoEnclose <hello@ecoenclose.com>  \n",
       "42   Women Who Code Global <contact@womenwhocode.com>  \n",
       "43                  Jackie Nasser <jackie@mcneel.com>  \n",
       "44         \"Nintendo\" <nintendo-noreply@nintendo.net>  \n",
       "45  Point of the Bluff Vineyards <info@pointoftheb...  \n",
       "46         \"Wellfound\" <newsletters@hi.wellfound.com>  \n",
       "47              \"DSP Shows\" <hello@mail.dspshows.com>  \n",
       "48  Reasons to be Cheerful <info@reasonstobecheerf...  \n",
       "49                  EcoEnclose <hello@ecoenclose.com>  "
      ]
     },
     "execution_count": 5,
     "metadata": {},
     "output_type": "execute_result"
    }
   ],
   "source": [
    "df.tail(10)"
   ]
  },
  {
   "cell_type": "code",
   "execution_count": 6,
   "id": "6524b76c",
   "metadata": {},
   "outputs": [],
   "source": [
    "# frequency distribution of tokens from subject column of df\n",
    "stop_words = set(stopwords.words('english'))\n",
    "\n",
    "# tokenize subject column\n",
    "df['subject_tokens'] = df['subject'].apply(word_tokenize)\n",
    "\n",
    "# remove stop words\n",
    "df['subject_tokens'] = df['subject_tokens'].apply(lambda x: [item for item in x if item not in stop_words])\n",
    "\n",
    "word_list = ' '.join(df['subject_tokens'].apply(lambda x: ' '.join(x)))\n",
    "#lowercase all words in list\n",
    "word_list_lower = word_list.lower()\n",
    "word_tokens = nltk.word_tokenize(word_list_lower)"
   ]
  },
  {
   "cell_type": "code",
   "execution_count": 7,
   "id": "b37886d2",
   "metadata": {},
   "outputs": [
    {
     "name": "stdout",
     "output_type": "stream",
     "text": [
      "[('!', 19), (',', 19), ('&', 8), ('your', 7), (':', 5), ('the', 5), ('october', 5), ('today', 4), (\"'s\", 4), ('big', 4), ('%', 3), ('ashley', 3), ('“', 3), ('”', 3), ('u-pick', 3)]\n"
     ]
    }
   ],
   "source": [
    "# frequency distribution of tokens\n",
    "fdist = FreqDist(word_tokens)\n",
    "print(fdist.most_common(15))"
   ]
  }
 ],
 "metadata": {
  "kernelspec": {
   "display_name": "Python 3 (ipykernel)",
   "language": "python",
   "name": "python3"
  },
  "language_info": {
   "codemirror_mode": {
    "name": "ipython",
    "version": 3
   },
   "file_extension": ".py",
   "mimetype": "text/x-python",
   "name": "python",
   "nbconvert_exporter": "python",
   "pygments_lexer": "ipython3",
   "version": "3.9.13"
  }
 },
 "nbformat": 4,
 "nbformat_minor": 5
}
